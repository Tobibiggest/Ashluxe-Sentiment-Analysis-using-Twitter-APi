{
  "nbformat": 4,
  "nbformat_minor": 0,
  "metadata": {
    "colab": {
      "provenance": []
    },
    "kernelspec": {
      "name": "python3",
      "display_name": "Python 3"
    },
    "language_info": {
      "name": "python"
    }
  },
  "cells": [
    {
      "cell_type": "code",
      "execution_count": 10,
      "metadata": {
        "colab": {
          "base_uri": "https://localhost:8080/",
          "height": 0
        },
        "id": "qy_LQdw3jmLM",
        "outputId": "fa109659-ec4d-4018-9214-de2605421b83"
      },
      "outputs": [
        {
          "metadata": {
            "tags": null
          },
          "name": "stdout",
          "output_type": "stream",
          "text": [
            "Rate limit reached. Sleeping for 60 seconds...\n",
            "Rate limit reached. Sleeping for 120 seconds...\n",
            "Rate limit reached. Sleeping for 240 seconds...\n",
            "Rate limit reached. Sleeping for 480 seconds...\n"
          ]
        }
      ],
      "source": [
        "import tweepy\n",
        "import pandas as pd\n",
        "import time\n",
        "\n",
        "# Initialize API keys (substitute with your actual keys)\n",
        "api_key = 'Your API Key'\n",
        "api_secret = 'Your Secret API KEY'\n",
        "access_token = 'Your Access Token'\n",
        "access_token_secret = 'Your Secret Access Token'\n",
        "bearer_token = 'Your Bearer Token'\n",
        "\n",
        "# Set up authentication\n",
        "client = tweepy.Client(bearer_token=bearer_token)\n",
        "\n",
        "# Define query\n",
        "query = 'Ashluxe -is:retweet lang:en'\n",
        "\n",
        "def fetch_tweets_with_backoff(query, max_results=20):\n",
        "    wait_time = 60\n",
        "    max_attempts = 5\n",
        "    attempt = 0\n",
        "\n",
        "    while attempt < max_attempts:try:\n",
        "            # Fetch tweets\n",
        "            response = client.search_recent_tweets(query=query, max_results=max_results)\n",
        "            return response.data\n",
        "        except tweepy.TooManyRequests:\n",
        "            print(f\"Rate limit reached. Sleeping for {wait_time} seconds...\")\n",
        "            time.sleep(wait_time)\n",
        "            wait_time *= 2\n",
        "            attempt += 1\n",
        "\n",
        "    print(\"Max attempts reached. Could not fetch tweets due to rate limiting.\")\n",
        "    return None\n",
        "\n",
        "tweets_data = fetch_tweets_with_backoff(query)"
      ]
    },
    {
      "cell_type": "markdown",
      "source": [
        "# **SENTIMENT ANALYSIS**"
      ],
      "metadata": {
        "id": "95wtgi9mmRgO"
      }
    },
    {
      "cell_type": "code",
      "source": [
        "import pandas as pd\n",
        "from textblob import TextBlob\n",
        "\n",
        "# Function to analyze sentiment\n",
        "def get_sentiment(text):\n",
        "    blob = TextBlob(text)\n",
        "    return blob.sentiment.polarity\n",
        "\n",
        "# Ensure `tweets_data` is not empty before creating the DataFrame\n",
        "if tweets_data:\n",
        "    # Convert to DataFrame\n",
        "    df = pd.DataFrame([tweet.text for tweet in tweets_data], columns=['Tweet'])\n",
        "\n",
        "    # Apply sentiment analysis\n",
        "    df['Sentiment'] = df['Tweet'].apply(get_sentiment)\n",
        "    print(df.head())\n",
        "else:\n",
        "    print(\"No tweets were retrieved, so the DataFrame could not be created.\")\n"
      ],
      "metadata": {
        "colab": {
          "base_uri": "https://localhost:8080/",
          "height": 0
        },
        "id": "aeQ1-cn5mPxt",
        "outputId": "b2ac5ca7-136d-4c0e-abbd-b5344434f9a4"
      },
      "execution_count": 11,
      "outputs": [
        {
          "output_type": "stream",
          "name": "stdout",
          "text": [
            "                                               Tweet  Sentiment\n",
            "0  Brands I’ll love love to model for ; \\n@Zlatan...   0.386667\n",
            "1  @harunajr_ @EmmyMics Goal for 2025 over take h...   0.160000\n",
            "2  This girl don steal my Ashluxe 😢💔 🤦🏽‍♂️  \\nIn ...   0.000000\n",
            "3  Payper Corleone Ashluxe \\nLoose Kaynon Win\\n\\n...   0.430769\n",
            "4  🌐 Discover the secret to massive gains! Pump e...  -0.200000\n"
          ]
        }
      ]
    },
    {
      "cell_type": "markdown",
      "source": [
        "# **Interpret the Sentiment:**\n",
        "1. Positive sentiment: Polarity > 0\n",
        "\n",
        "2. Neutral sentiment: Polarity = 0\n",
        "\n",
        "3. Negative sentiment: Polarity < 0"
      ],
      "metadata": {
        "id": "tqObq-KWtKD_"
      }
    },
    {
      "cell_type": "code",
      "source": [
        "import seaborn as sns\n",
        "import matplotlib.pyplot as plt\n",
        "\n",
        "# Plot sentiment distribution\n",
        "sns.histplot(df['Sentiment'], kde=True)\n",
        "plt.xlabel('Sentiment Polarity')\n",
        "plt.title('Sentiment Distribution of Tweets on Ashluxe in Nigeria')\n",
        "plt.show()\n"
      ],
      "metadata": {
        "colab": {
          "base_uri": "https://localhost:8080/",
          "height": 472
        },
        "id": "gnI6I_dvmefS",
        "outputId": "1c9dc743-62c3-4fed-ade8-9b7b720825bd"
      },
      "execution_count": 12,
      "outputs": [
        {
          "output_type": "display_data",
          "data": {
            "text/plain": [
              "<Figure size 640x480 with 1 Axes>"
            ],
            "image/png": "[encoded data removed]"
          },
          "metadata": {}
        }
      ]
    },
    {
      "cell_type": "code",
      "source": [
        "# Calculate sentiment percentages\n",
        "sentiment_counts = df['Sentiment'].value_counts(normalize=True) * 100\n",
        "print(\"Sentiment Percentages:\\n\", sentiment_counts)\n",
        "\n",
        "# If you want a clearer view\n",
        "for sentiment, percentage in sentiment_counts.items():\n",
        "    print(f\"{sentiment}: {percentage:.2f}%\")"
      ],
      "metadata": {
        "colab": {
          "base_uri": "https://localhost:8080/",
          "height": 0
        },
        "id": "XKBlgXl5uOCX",
        "outputId": "84ec4920-393c-4d68-dcc5-58ee913bd3b4"
      },
      "execution_count": 13,
      "outputs": [
        {
          "output_type": "stream",
          "name": "stdout",
          "text": [
            "Sentiment Percentages:\n",
            " Sentiment\n",
            " 0.000000    36.363636\n",
            " 0.386667     9.090909\n",
            " 0.160000     9.090909\n",
            " 0.430769     9.090909\n",
            "-0.200000     9.090909\n",
            " 0.300000     9.090909\n",
            " 0.490000     9.090909\n",
            " 0.400000     9.090909\n",
            "Name: proportion, dtype: float64\n",
            "0.0: 36.36%\n",
            "0.38666666666666666: 9.09%\n",
            "0.16: 9.09%\n",
            "0.4307692307692308: 9.09%\n",
            "-0.2: 9.09%\n",
            "0.3: 9.09%\n",
            "0.49: 9.09%\n",
            "0.4: 9.09%\n"
          ]
        }
      ]
    }
  ]
}